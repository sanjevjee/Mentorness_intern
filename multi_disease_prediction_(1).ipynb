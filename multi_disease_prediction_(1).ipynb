{
  "cells": [
    {
      "cell_type": "code",
      "execution_count": null,
      "id": "fbf7a364",
      "metadata": {
        "_cell_guid": "b1076dfc-b9ad-4769-8c92-a6c4dae69d19",
        "_uuid": "8f2839f25d086af736a60e9eeb907d3b93b6e0e5",
        "execution": {
          "iopub.execute_input": "2024-03-13T11:45:35.807857Z",
          "iopub.status.busy": "2024-03-13T11:45:35.806614Z",
          "iopub.status.idle": "2024-03-13T11:45:38.839074Z",
          "shell.execute_reply": "2024-03-13T11:45:38.837778Z"
        },
        "papermill": {
          "duration": 3.042774,
          "end_time": "2024-03-13T11:45:38.841648",
          "exception": false,
          "start_time": "2024-03-13T11:45:35.798874",
          "status": "completed"
        },
        "tags": [],
        "id": "fbf7a364"
      },
      "outputs": [],
      "source": [
        "# This Python 3 environment comes with many helpful analytics libraries installed\n",
        "# It is defined by the kaggle/python Docker image: https://github.com/kaggle/docker-python\n",
        "# For example, here's several helpful packages to load\n",
        "\n",
        "import numpy as np # linear algebra\n",
        "import pandas as pd # data processing, CSV file I/O (e.g. pd.read_csv)\n",
        "\n",
        "import matplotlib.pyplot as plt\n",
        "import seaborn as sns\n",
        "from sklearn.ensemble import RandomForestClassifier, GradientBoostingClassifier\n",
        "from sklearn.metrics import confusion_matrix, accuracy_score, roc_curve, auc, classification_report\n",
        "from sklearn.tree import DecisionTreeClassifier\n",
        "from xgboost import XGBClassifier\n",
        "from sklearn.model_selection import train_test_split, GridSearchCV\n",
        "from sklearn.linear_model import LogisticRegression\n",
        "\n",
        "import warnings\n",
        "warnings.filterwarnings('ignore')\n",
        "\n",
        "%matplotlib inline\n",
        "\n",
        "\n",
        "# Input data files are available in the read-only \"../input/\" directory\n",
        "# For example, running this (by clicking run or pressing Shift+Enter) will list all files under the input directory\n",
        "\n",
        "import os\n",
        "for dirname, _, filenames in os.walk('/kaggle/input'):\n",
        "    for filename in filenames:\n",
        "        print(os.path.join(dirname, filename))\n",
        "\n",
        "# You can write up to 20GB to the current directory (/kaggle/working/) that gets preserved as output when you create a version using \"Save & Run All\"\n",
        "# You can also write temporary files to /kaggle/temp/, but they won't be saved outside of the current session"
      ]
    },
    {
      "cell_type": "markdown",
      "id": "d4b1737c",
      "metadata": {
        "papermill": {
          "duration": 0.005326,
          "end_time": "2024-03-13T11:45:38.852784",
          "exception": false,
          "start_time": "2024-03-13T11:45:38.847458",
          "status": "completed"
        },
        "tags": [],
        "id": "d4b1737c"
      },
      "source": [
        "## Reading Dataset"
      ]
    },
    {
      "cell_type": "code",
      "execution_count": null,
      "id": "4009cfa4",
      "metadata": {
        "execution": {
          "iopub.execute_input": "2024-03-13T11:45:38.865967Z",
          "iopub.status.busy": "2024-03-13T11:45:38.865419Z",
          "iopub.status.idle": "2024-03-13T11:45:38.952083Z",
          "shell.execute_reply": "2024-03-13T11:45:38.950995Z"
        },
        "papermill": {
          "duration": 0.096265,
          "end_time": "2024-03-13T11:45:38.954546",
          "exception": false,
          "start_time": "2024-03-13T11:45:38.858281",
          "status": "completed"
        },
        "tags": [],
        "id": "4009cfa4"
      },
      "outputs": [],
      "source": [
        "from google.colab import files\n",
        "import io\n",
        "try:\n",
        "  uploaded\n",
        "except:\n",
        "  uploaded=files.upload()"
      ]
    },
    {
      "cell_type": "code",
      "source": [
        "from google.colab import files\n",
        "import io\n",
        "try:\n",
        "  uploaded_1\n",
        "except:\n",
        "  uploaded_1=files.upload()"
      ],
      "metadata": {
        "colab": {
          "base_uri": "https://localhost:8080/",
          "height": 73
        },
        "id": "kBDKUBToBnJs",
        "outputId": "def45c55-a5ec-47e6-d131-74c59da1c6ca"
      },
      "id": "kBDKUBToBnJs",
      "execution_count": null,
      "outputs": [
        {
          "output_type": "display_data",
          "data": {
            "text/plain": [
              "<IPython.core.display.HTML object>"
            ],
            "text/html": [
              "\n",
              "     <input type=\"file\" id=\"files-c019e3ab-e597-4fbd-9812-ec361e1112d1\" name=\"files[]\" multiple disabled\n",
              "        style=\"border:none\" />\n",
              "     <output id=\"result-c019e3ab-e597-4fbd-9812-ec361e1112d1\">\n",
              "      Upload widget is only available when the cell has been executed in the\n",
              "      current browser session. Please rerun this cell to enable.\n",
              "      </output>\n",
              "      <script>// Copyright 2017 Google LLC\n",
              "//\n",
              "// Licensed under the Apache License, Version 2.0 (the \"License\");\n",
              "// you may not use this file except in compliance with the License.\n",
              "// You may obtain a copy of the License at\n",
              "//\n",
              "//      http://www.apache.org/licenses/LICENSE-2.0\n",
              "//\n",
              "// Unless required by applicable law or agreed to in writing, software\n",
              "// distributed under the License is distributed on an \"AS IS\" BASIS,\n",
              "// WITHOUT WARRANTIES OR CONDITIONS OF ANY KIND, either express or implied.\n",
              "// See the License for the specific language governing permissions and\n",
              "// limitations under the License.\n",
              "\n",
              "/**\n",
              " * @fileoverview Helpers for google.colab Python module.\n",
              " */\n",
              "(function(scope) {\n",
              "function span(text, styleAttributes = {}) {\n",
              "  const element = document.createElement('span');\n",
              "  element.textContent = text;\n",
              "  for (const key of Object.keys(styleAttributes)) {\n",
              "    element.style[key] = styleAttributes[key];\n",
              "  }\n",
              "  return element;\n",
              "}\n",
              "\n",
              "// Max number of bytes which will be uploaded at a time.\n",
              "const MAX_PAYLOAD_SIZE = 100 * 1024;\n",
              "\n",
              "function _uploadFiles(inputId, outputId) {\n",
              "  const steps = uploadFilesStep(inputId, outputId);\n",
              "  const outputElement = document.getElementById(outputId);\n",
              "  // Cache steps on the outputElement to make it available for the next call\n",
              "  // to uploadFilesContinue from Python.\n",
              "  outputElement.steps = steps;\n",
              "\n",
              "  return _uploadFilesContinue(outputId);\n",
              "}\n",
              "\n",
              "// This is roughly an async generator (not supported in the browser yet),\n",
              "// where there are multiple asynchronous steps and the Python side is going\n",
              "// to poll for completion of each step.\n",
              "// This uses a Promise to block the python side on completion of each step,\n",
              "// then passes the result of the previous step as the input to the next step.\n",
              "function _uploadFilesContinue(outputId) {\n",
              "  const outputElement = document.getElementById(outputId);\n",
              "  const steps = outputElement.steps;\n",
              "\n",
              "  const next = steps.next(outputElement.lastPromiseValue);\n",
              "  return Promise.resolve(next.value.promise).then((value) => {\n",
              "    // Cache the last promise value to make it available to the next\n",
              "    // step of the generator.\n",
              "    outputElement.lastPromiseValue = value;\n",
              "    return next.value.response;\n",
              "  });\n",
              "}\n",
              "\n",
              "/**\n",
              " * Generator function which is called between each async step of the upload\n",
              " * process.\n",
              " * @param {string} inputId Element ID of the input file picker element.\n",
              " * @param {string} outputId Element ID of the output display.\n",
              " * @return {!Iterable<!Object>} Iterable of next steps.\n",
              " */\n",
              "function* uploadFilesStep(inputId, outputId) {\n",
              "  const inputElement = document.getElementById(inputId);\n",
              "  inputElement.disabled = false;\n",
              "\n",
              "  const outputElement = document.getElementById(outputId);\n",
              "  outputElement.innerHTML = '';\n",
              "\n",
              "  const pickedPromise = new Promise((resolve) => {\n",
              "    inputElement.addEventListener('change', (e) => {\n",
              "      resolve(e.target.files);\n",
              "    });\n",
              "  });\n",
              "\n",
              "  const cancel = document.createElement('button');\n",
              "  inputElement.parentElement.appendChild(cancel);\n",
              "  cancel.textContent = 'Cancel upload';\n",
              "  const cancelPromise = new Promise((resolve) => {\n",
              "    cancel.onclick = () => {\n",
              "      resolve(null);\n",
              "    };\n",
              "  });\n",
              "\n",
              "  // Wait for the user to pick the files.\n",
              "  const files = yield {\n",
              "    promise: Promise.race([pickedPromise, cancelPromise]),\n",
              "    response: {\n",
              "      action: 'starting',\n",
              "    }\n",
              "  };\n",
              "\n",
              "  cancel.remove();\n",
              "\n",
              "  // Disable the input element since further picks are not allowed.\n",
              "  inputElement.disabled = true;\n",
              "\n",
              "  if (!files) {\n",
              "    return {\n",
              "      response: {\n",
              "        action: 'complete',\n",
              "      }\n",
              "    };\n",
              "  }\n",
              "\n",
              "  for (const file of files) {\n",
              "    const li = document.createElement('li');\n",
              "    li.append(span(file.name, {fontWeight: 'bold'}));\n",
              "    li.append(span(\n",
              "        `(${file.type || 'n/a'}) - ${file.size} bytes, ` +\n",
              "        `last modified: ${\n",
              "            file.lastModifiedDate ? file.lastModifiedDate.toLocaleDateString() :\n",
              "                                    'n/a'} - `));\n",
              "    const percent = span('0% done');\n",
              "    li.appendChild(percent);\n",
              "\n",
              "    outputElement.appendChild(li);\n",
              "\n",
              "    const fileDataPromise = new Promise((resolve) => {\n",
              "      const reader = new FileReader();\n",
              "      reader.onload = (e) => {\n",
              "        resolve(e.target.result);\n",
              "      };\n",
              "      reader.readAsArrayBuffer(file);\n",
              "    });\n",
              "    // Wait for the data to be ready.\n",
              "    let fileData = yield {\n",
              "      promise: fileDataPromise,\n",
              "      response: {\n",
              "        action: 'continue',\n",
              "      }\n",
              "    };\n",
              "\n",
              "    // Use a chunked sending to avoid message size limits. See b/62115660.\n",
              "    let position = 0;\n",
              "    do {\n",
              "      const length = Math.min(fileData.byteLength - position, MAX_PAYLOAD_SIZE);\n",
              "      const chunk = new Uint8Array(fileData, position, length);\n",
              "      position += length;\n",
              "\n",
              "      const base64 = btoa(String.fromCharCode.apply(null, chunk));\n",
              "      yield {\n",
              "        response: {\n",
              "          action: 'append',\n",
              "          file: file.name,\n",
              "          data: base64,\n",
              "        },\n",
              "      };\n",
              "\n",
              "      let percentDone = fileData.byteLength === 0 ?\n",
              "          100 :\n",
              "          Math.round((position / fileData.byteLength) * 100);\n",
              "      percent.textContent = `${percentDone}% done`;\n",
              "\n",
              "    } while (position < fileData.byteLength);\n",
              "  }\n",
              "\n",
              "  // All done.\n",
              "  yield {\n",
              "    response: {\n",
              "      action: 'complete',\n",
              "    }\n",
              "  };\n",
              "}\n",
              "\n",
              "scope.google = scope.google || {};\n",
              "scope.google.colab = scope.google.colab || {};\n",
              "scope.google.colab._files = {\n",
              "  _uploadFiles,\n",
              "  _uploadFilesContinue,\n",
              "};\n",
              "})(self);\n",
              "</script> "
            ]
          },
          "metadata": {}
        },
        {
          "output_type": "stream",
          "name": "stdout",
          "text": [
            "Saving test_data (1).csv to test_data (1) (1).csv\n"
          ]
        }
      ]
    },
    {
      "cell_type": "code",
      "source": [
        "# Reading files\n",
        "# train set\n",
        "df=pd.read_csv(\"Train_data (1).csv\")\n",
        "# test set\n",
        "data_1=pd.read_csv(\"test_data (1).csv\")\n",
        "# Assuming data and data_1 are your original DataFrames\n"
      ],
      "metadata": {
        "id": "rArkBdmIBzlb"
      },
      "id": "rArkBdmIBzlb",
      "execution_count": null,
      "outputs": []
    },
    {
      "cell_type": "markdown",
      "id": "d3c66313",
      "metadata": {
        "papermill": {
          "duration": 0.005693,
          "end_time": "2024-03-13T11:45:38.966508",
          "exception": false,
          "start_time": "2024-03-13T11:45:38.960815",
          "status": "completed"
        },
        "tags": [],
        "id": "d3c66313"
      },
      "source": [
        "## Pre-Processing of Dataset"
      ]
    },
    {
      "cell_type": "code",
      "execution_count": null,
      "id": "a3f957bc",
      "metadata": {
        "execution": {
          "iopub.execute_input": "2024-03-13T11:45:38.980619Z",
          "iopub.status.busy": "2024-03-13T11:45:38.979429Z",
          "iopub.status.idle": "2024-03-13T11:45:38.990490Z",
          "shell.execute_reply": "2024-03-13T11:45:38.989627Z"
        },
        "papermill": {
          "duration": 0.020487,
          "end_time": "2024-03-13T11:45:38.992838",
          "exception": false,
          "start_time": "2024-03-13T11:45:38.972351",
          "status": "completed"
        },
        "tags": [],
        "colab": {
          "base_uri": "https://localhost:8080/"
        },
        "id": "a3f957bc",
        "outputId": "656adc82-154f-4354-c50b-13fdf8b9843c"
      },
      "outputs": [
        {
          "output_type": "execute_result",
          "data": {
            "text/plain": [
              "Glucose                                      float64\n",
              "Cholesterol                                  float64\n",
              "Hemoglobin                                   float64\n",
              "Platelets                                    float64\n",
              "White Blood Cells                            float64\n",
              "Red Blood Cells                              float64\n",
              "Hematocrit                                   float64\n",
              "Mean Corpuscular Volume                      float64\n",
              "Mean Corpuscular Hemoglobin                  float64\n",
              "Mean Corpuscular Hemoglobin Concentration    float64\n",
              "Insulin                                      float64\n",
              "BMI                                          float64\n",
              "Systolic Blood Pressure                      float64\n",
              "Diastolic Blood Pressure                     float64\n",
              "Triglycerides                                float64\n",
              "HbA1c                                        float64\n",
              "LDL Cholesterol                              float64\n",
              "HDL Cholesterol                              float64\n",
              "ALT                                          float64\n",
              "AST                                          float64\n",
              "Heart Rate                                   float64\n",
              "Creatinine                                   float64\n",
              "Troponin                                     float64\n",
              "C-reactive Protein                           float64\n",
              "Disease                                       object\n",
              "dtype: object"
            ]
          },
          "metadata": {},
          "execution_count": 10
        }
      ],
      "source": [
        "df.dtypes"
      ]
    },
    {
      "cell_type": "code",
      "execution_count": null,
      "id": "c0dfc860",
      "metadata": {
        "execution": {
          "iopub.execute_input": "2024-03-13T11:45:39.007220Z",
          "iopub.status.busy": "2024-03-13T11:45:39.006593Z",
          "iopub.status.idle": "2024-03-13T11:45:39.022201Z",
          "shell.execute_reply": "2024-03-13T11:45:39.021094Z"
        },
        "papermill": {
          "duration": 0.025605,
          "end_time": "2024-03-13T11:45:39.024616",
          "exception": false,
          "start_time": "2024-03-13T11:45:38.999011",
          "status": "completed"
        },
        "tags": [],
        "colab": {
          "base_uri": "https://localhost:8080/"
        },
        "id": "c0dfc860",
        "outputId": "67198608-3ea8-46a9-e6c9-c88266bbe6e7"
      },
      "outputs": [
        {
          "output_type": "execute_result",
          "data": {
            "text/plain": [
              "Disease\n",
              "Anemia      623\n",
              "Healthy     556\n",
              "Diabetes    540\n",
              "Thalasse    509\n",
              "Thromboc    123\n",
              "Name: count, dtype: int64"
            ]
          },
          "metadata": {},
          "execution_count": 11
        }
      ],
      "source": [
        "df.Disease.value_counts()"
      ]
    },
    {
      "cell_type": "code",
      "execution_count": null,
      "id": "4c0ff27d",
      "metadata": {
        "execution": {
          "iopub.execute_input": "2024-03-13T11:45:39.039448Z",
          "iopub.status.busy": "2024-03-13T11:45:39.038753Z",
          "iopub.status.idle": "2024-03-13T11:45:39.048230Z",
          "shell.execute_reply": "2024-03-13T11:45:39.047419Z"
        },
        "papermill": {
          "duration": 0.01923,
          "end_time": "2024-03-13T11:45:39.050263",
          "exception": false,
          "start_time": "2024-03-13T11:45:39.031033",
          "status": "completed"
        },
        "tags": [],
        "colab": {
          "base_uri": "https://localhost:8080/"
        },
        "id": "4c0ff27d",
        "outputId": "8ff8da4a-1abb-413d-f46b-78bb662f7c10"
      },
      "outputs": [
        {
          "output_type": "execute_result",
          "data": {
            "text/plain": [
              "Glucose                                      0\n",
              "Cholesterol                                  0\n",
              "Hemoglobin                                   0\n",
              "Platelets                                    0\n",
              "White Blood Cells                            0\n",
              "Red Blood Cells                              0\n",
              "Hematocrit                                   0\n",
              "Mean Corpuscular Volume                      0\n",
              "Mean Corpuscular Hemoglobin                  0\n",
              "Mean Corpuscular Hemoglobin Concentration    0\n",
              "Insulin                                      0\n",
              "BMI                                          0\n",
              "Systolic Blood Pressure                      0\n",
              "Diastolic Blood Pressure                     0\n",
              "Triglycerides                                0\n",
              "HbA1c                                        0\n",
              "LDL Cholesterol                              0\n",
              "HDL Cholesterol                              0\n",
              "ALT                                          0\n",
              "AST                                          0\n",
              "Heart Rate                                   0\n",
              "Creatinine                                   0\n",
              "Troponin                                     0\n",
              "C-reactive Protein                           0\n",
              "Disease                                      0\n",
              "dtype: int64"
            ]
          },
          "metadata": {},
          "execution_count": 12
        }
      ],
      "source": [
        "df.isna().sum()"
      ]
    },
    {
      "cell_type": "code",
      "execution_count": null,
      "id": "90569994",
      "metadata": {
        "execution": {
          "iopub.execute_input": "2024-03-13T11:45:39.065378Z",
          "iopub.status.busy": "2024-03-13T11:45:39.064717Z",
          "iopub.status.idle": "2024-03-13T11:45:39.072249Z",
          "shell.execute_reply": "2024-03-13T11:45:39.071050Z"
        },
        "papermill": {
          "duration": 0.017911,
          "end_time": "2024-03-13T11:45:39.074537",
          "exception": false,
          "start_time": "2024-03-13T11:45:39.056626",
          "status": "completed"
        },
        "tags": [],
        "id": "90569994"
      },
      "outputs": [],
      "source": [
        "df.Disease = df.Disease.map({\n",
        "    \"Anemia\":0,\n",
        "    \"Healthy\":1,\n",
        "    \"Diabetes\":2,\n",
        "    \"Thalasse\":3,\n",
        "    \"Thromboc\":4\n",
        "})"
      ]
    },
    {
      "cell_type": "code",
      "execution_count": null,
      "id": "b5d6ece9",
      "metadata": {
        "execution": {
          "iopub.execute_input": "2024-03-13T11:45:39.089829Z",
          "iopub.status.busy": "2024-03-13T11:45:39.089310Z",
          "iopub.status.idle": "2024-03-13T11:45:39.097884Z",
          "shell.execute_reply": "2024-03-13T11:45:39.096743Z"
        },
        "papermill": {
          "duration": 0.01886,
          "end_time": "2024-03-13T11:45:39.100489",
          "exception": false,
          "start_time": "2024-03-13T11:45:39.081629",
          "status": "completed"
        },
        "tags": [],
        "colab": {
          "base_uri": "https://localhost:8080/"
        },
        "id": "b5d6ece9",
        "outputId": "618dd77d-967f-4d8f-b920-e50432e5eb22"
      },
      "outputs": [
        {
          "output_type": "execute_result",
          "data": {
            "text/plain": [
              "Glucose                                      float64\n",
              "Cholesterol                                  float64\n",
              "Hemoglobin                                   float64\n",
              "Platelets                                    float64\n",
              "White Blood Cells                            float64\n",
              "Red Blood Cells                              float64\n",
              "Hematocrit                                   float64\n",
              "Mean Corpuscular Volume                      float64\n",
              "Mean Corpuscular Hemoglobin                  float64\n",
              "Mean Corpuscular Hemoglobin Concentration    float64\n",
              "Insulin                                      float64\n",
              "BMI                                          float64\n",
              "Systolic Blood Pressure                      float64\n",
              "Diastolic Blood Pressure                     float64\n",
              "Triglycerides                                float64\n",
              "HbA1c                                        float64\n",
              "LDL Cholesterol                              float64\n",
              "HDL Cholesterol                              float64\n",
              "ALT                                          float64\n",
              "AST                                          float64\n",
              "Heart Rate                                   float64\n",
              "Creatinine                                   float64\n",
              "Troponin                                     float64\n",
              "C-reactive Protein                           float64\n",
              "Disease                                        int64\n",
              "dtype: object"
            ]
          },
          "metadata": {},
          "execution_count": 14
        }
      ],
      "source": [
        "df.dtypes"
      ]
    },
    {
      "cell_type": "markdown",
      "id": "39caa4bc",
      "metadata": {
        "papermill": {
          "duration": 0.006179,
          "end_time": "2024-03-13T11:45:39.113254",
          "exception": false,
          "start_time": "2024-03-13T11:45:39.107075",
          "status": "completed"
        },
        "tags": [],
        "id": "39caa4bc"
      },
      "source": [
        "## Dividing Dataset into X and y labels"
      ]
    },
    {
      "cell_type": "code",
      "execution_count": null,
      "id": "6580540b",
      "metadata": {
        "execution": {
          "iopub.execute_input": "2024-03-13T11:45:39.127969Z",
          "iopub.status.busy": "2024-03-13T11:45:39.127609Z",
          "iopub.status.idle": "2024-03-13T11:45:39.133405Z",
          "shell.execute_reply": "2024-03-13T11:45:39.132477Z"
        },
        "papermill": {
          "duration": 0.015943,
          "end_time": "2024-03-13T11:45:39.135656",
          "exception": false,
          "start_time": "2024-03-13T11:45:39.119713",
          "status": "completed"
        },
        "tags": [],
        "id": "6580540b"
      },
      "outputs": [],
      "source": [
        "X = df.drop([\"Disease\"], axis=1)\n",
        "y = df.Disease"
      ]
    },
    {
      "cell_type": "markdown",
      "id": "7efedaff",
      "metadata": {
        "papermill": {
          "duration": 0.00616,
          "end_time": "2024-03-13T11:45:39.149296",
          "exception": false,
          "start_time": "2024-03-13T11:45:39.143136",
          "status": "completed"
        },
        "tags": [],
        "id": "7efedaff"
      },
      "source": [
        "## Dividing into training and testing data"
      ]
    },
    {
      "cell_type": "code",
      "execution_count": null,
      "id": "ca91cc29",
      "metadata": {
        "execution": {
          "iopub.execute_input": "2024-03-13T11:45:39.163881Z",
          "iopub.status.busy": "2024-03-13T11:45:39.163467Z",
          "iopub.status.idle": "2024-03-13T11:45:39.172927Z",
          "shell.execute_reply": "2024-03-13T11:45:39.171577Z"
        },
        "papermill": {
          "duration": 0.019822,
          "end_time": "2024-03-13T11:45:39.175520",
          "exception": false,
          "start_time": "2024-03-13T11:45:39.155698",
          "status": "completed"
        },
        "tags": [],
        "id": "ca91cc29"
      },
      "outputs": [],
      "source": [
        "xtrain, xtest, ytrain, ytest = train_test_split(X,y,test_size=0.3, random_state=0)"
      ]
    },
    {
      "cell_type": "markdown",
      "id": "e98a53b3",
      "metadata": {
        "papermill": {
          "duration": 0.006354,
          "end_time": "2024-03-13T11:45:39.188487",
          "exception": false,
          "start_time": "2024-03-13T11:45:39.182133",
          "status": "completed"
        },
        "tags": [],
        "id": "e98a53b3"
      },
      "source": [
        "## Logistic Regression"
      ]
    },
    {
      "cell_type": "code",
      "execution_count": null,
      "id": "db37a1ce",
      "metadata": {
        "execution": {
          "iopub.execute_input": "2024-03-13T11:45:39.204072Z",
          "iopub.status.busy": "2024-03-13T11:45:39.203327Z",
          "iopub.status.idle": "2024-03-13T11:45:39.287415Z",
          "shell.execute_reply": "2024-03-13T11:45:39.286317Z"
        },
        "papermill": {
          "duration": 0.094758,
          "end_time": "2024-03-13T11:45:39.289880",
          "exception": false,
          "start_time": "2024-03-13T11:45:39.195122",
          "status": "completed"
        },
        "tags": [],
        "colab": {
          "base_uri": "https://localhost:8080/",
          "height": 75
        },
        "id": "db37a1ce",
        "outputId": "99cc3059-126d-4477-daa3-a7bd24fc6116"
      },
      "outputs": [
        {
          "output_type": "execute_result",
          "data": {
            "text/plain": [
              "LogisticRegression()"
            ],
            "text/html": [
              "<style>#sk-container-id-1 {color: black;background-color: white;}#sk-container-id-1 pre{padding: 0;}#sk-container-id-1 div.sk-toggleable {background-color: white;}#sk-container-id-1 label.sk-toggleable__label {cursor: pointer;display: block;width: 100%;margin-bottom: 0;padding: 0.3em;box-sizing: border-box;text-align: center;}#sk-container-id-1 label.sk-toggleable__label-arrow:before {content: \"▸\";float: left;margin-right: 0.25em;color: #696969;}#sk-container-id-1 label.sk-toggleable__label-arrow:hover:before {color: black;}#sk-container-id-1 div.sk-estimator:hover label.sk-toggleable__label-arrow:before {color: black;}#sk-container-id-1 div.sk-toggleable__content {max-height: 0;max-width: 0;overflow: hidden;text-align: left;background-color: #f0f8ff;}#sk-container-id-1 div.sk-toggleable__content pre {margin: 0.2em;color: black;border-radius: 0.25em;background-color: #f0f8ff;}#sk-container-id-1 input.sk-toggleable__control:checked~div.sk-toggleable__content {max-height: 200px;max-width: 100%;overflow: auto;}#sk-container-id-1 input.sk-toggleable__control:checked~label.sk-toggleable__label-arrow:before {content: \"▾\";}#sk-container-id-1 div.sk-estimator input.sk-toggleable__control:checked~label.sk-toggleable__label {background-color: #d4ebff;}#sk-container-id-1 div.sk-label input.sk-toggleable__control:checked~label.sk-toggleable__label {background-color: #d4ebff;}#sk-container-id-1 input.sk-hidden--visually {border: 0;clip: rect(1px 1px 1px 1px);clip: rect(1px, 1px, 1px, 1px);height: 1px;margin: -1px;overflow: hidden;padding: 0;position: absolute;width: 1px;}#sk-container-id-1 div.sk-estimator {font-family: monospace;background-color: #f0f8ff;border: 1px dotted black;border-radius: 0.25em;box-sizing: border-box;margin-bottom: 0.5em;}#sk-container-id-1 div.sk-estimator:hover {background-color: #d4ebff;}#sk-container-id-1 div.sk-parallel-item::after {content: \"\";width: 100%;border-bottom: 1px solid gray;flex-grow: 1;}#sk-container-id-1 div.sk-label:hover label.sk-toggleable__label {background-color: #d4ebff;}#sk-container-id-1 div.sk-serial::before {content: \"\";position: absolute;border-left: 1px solid gray;box-sizing: border-box;top: 0;bottom: 0;left: 50%;z-index: 0;}#sk-container-id-1 div.sk-serial {display: flex;flex-direction: column;align-items: center;background-color: white;padding-right: 0.2em;padding-left: 0.2em;position: relative;}#sk-container-id-1 div.sk-item {position: relative;z-index: 1;}#sk-container-id-1 div.sk-parallel {display: flex;align-items: stretch;justify-content: center;background-color: white;position: relative;}#sk-container-id-1 div.sk-item::before, #sk-container-id-1 div.sk-parallel-item::before {content: \"\";position: absolute;border-left: 1px solid gray;box-sizing: border-box;top: 0;bottom: 0;left: 50%;z-index: -1;}#sk-container-id-1 div.sk-parallel-item {display: flex;flex-direction: column;z-index: 1;position: relative;background-color: white;}#sk-container-id-1 div.sk-parallel-item:first-child::after {align-self: flex-end;width: 50%;}#sk-container-id-1 div.sk-parallel-item:last-child::after {align-self: flex-start;width: 50%;}#sk-container-id-1 div.sk-parallel-item:only-child::after {width: 0;}#sk-container-id-1 div.sk-dashed-wrapped {border: 1px dashed gray;margin: 0 0.4em 0.5em 0.4em;box-sizing: border-box;padding-bottom: 0.4em;background-color: white;}#sk-container-id-1 div.sk-label label {font-family: monospace;font-weight: bold;display: inline-block;line-height: 1.2em;}#sk-container-id-1 div.sk-label-container {text-align: center;}#sk-container-id-1 div.sk-container {/* jupyter's `normalize.less` sets `[hidden] { display: none; }` but bootstrap.min.css set `[hidden] { display: none !important; }` so we also need the `!important` here to be able to override the default hidden behavior on the sphinx rendered scikit-learn.org. See: https://github.com/scikit-learn/scikit-learn/issues/21755 */display: inline-block !important;position: relative;}#sk-container-id-1 div.sk-text-repr-fallback {display: none;}</style><div id=\"sk-container-id-1\" class=\"sk-top-container\"><div class=\"sk-text-repr-fallback\"><pre>LogisticRegression()</pre><b>In a Jupyter environment, please rerun this cell to show the HTML representation or trust the notebook. <br />On GitHub, the HTML representation is unable to render, please try loading this page with nbviewer.org.</b></div><div class=\"sk-container\" hidden><div class=\"sk-item\"><div class=\"sk-estimator sk-toggleable\"><input class=\"sk-toggleable__control sk-hidden--visually\" id=\"sk-estimator-id-1\" type=\"checkbox\" checked><label for=\"sk-estimator-id-1\" class=\"sk-toggleable__label sk-toggleable__label-arrow\">LogisticRegression</label><div class=\"sk-toggleable__content\"><pre>LogisticRegression()</pre></div></div></div></div></div>"
            ]
          },
          "metadata": {},
          "execution_count": 17
        }
      ],
      "source": [
        "model = LogisticRegression()\n",
        "model.fit(xtrain, ytrain)"
      ]
    },
    {
      "cell_type": "code",
      "execution_count": null,
      "id": "c654b77c",
      "metadata": {
        "execution": {
          "iopub.execute_input": "2024-03-13T11:45:39.309091Z",
          "iopub.status.busy": "2024-03-13T11:45:39.308634Z",
          "iopub.status.idle": "2024-03-13T11:45:39.319074Z",
          "shell.execute_reply": "2024-03-13T11:45:39.317914Z"
        },
        "papermill": {
          "duration": 0.023278,
          "end_time": "2024-03-13T11:45:39.321354",
          "exception": false,
          "start_time": "2024-03-13T11:45:39.298076",
          "status": "completed"
        },
        "tags": [],
        "colab": {
          "base_uri": "https://localhost:8080/"
        },
        "id": "c654b77c",
        "outputId": "f18113ee-b082-4cb2-bb3d-d4fef9757528"
      },
      "outputs": [
        {
          "output_type": "execute_result",
          "data": {
            "text/plain": [
              "1.0"
            ]
          },
          "metadata": {},
          "execution_count": 18
        }
      ],
      "source": [
        "model.score(xtest, ytest)"
      ]
    },
    {
      "cell_type": "code",
      "execution_count": null,
      "id": "173d3a7c",
      "metadata": {
        "execution": {
          "iopub.execute_input": "2024-03-13T11:45:39.337269Z",
          "iopub.status.busy": "2024-03-13T11:45:39.336884Z",
          "iopub.status.idle": "2024-03-13T11:45:39.695098Z",
          "shell.execute_reply": "2024-03-13T11:45:39.693941Z"
        },
        "papermill": {
          "duration": 0.368997,
          "end_time": "2024-03-13T11:45:39.697198",
          "exception": false,
          "start_time": "2024-03-13T11:45:39.328201",
          "status": "completed"
        },
        "tags": [],
        "colab": {
          "base_uri": "https://localhost:8080/",
          "height": 564
        },
        "id": "173d3a7c",
        "outputId": "253667a6-880f-4f5d-8e54-a29184f15101"
      },
      "outputs": [
        {
          "output_type": "display_data",
          "data": {
            "text/plain": [
              "<Figure size 800x600 with 2 Axes>"
            ],
            "image/png": "[encoded data removed]"
          },
          "metadata": {}
        }
      ],
      "source": [
        "preds = model.predict(xtest)\n",
        "cm = confusion_matrix(ytest, preds)\n",
        "cmdf = pd.DataFrame(cm, index=[\"Anemia\",\"Healthy\",\"Diabetes\",\"Thalasse\",\"Thromboc\"], columns=[\"Anemia\",\"Healthy\",\"Diabetes\",\"Thalasse\",\"Thromboc\"])\n",
        "plt.figure(figsize=(8,6))\n",
        "sns.heatmap(cmdf)\n",
        "plt.title(\"Confusion Matrix\")\n",
        "plt.xlabel(\"Predicted\")\n",
        "plt.ylabel(\"Actual\")\n",
        "plt.show()"
      ]
    },
    {
      "cell_type": "code",
      "execution_count": null,
      "id": "ca6ea482",
      "metadata": {
        "execution": {
          "iopub.execute_input": "2024-03-13T11:45:39.713845Z",
          "iopub.status.busy": "2024-03-13T11:45:39.713429Z",
          "iopub.status.idle": "2024-03-13T11:45:39.720371Z",
          "shell.execute_reply": "2024-03-13T11:45:39.719373Z"
        },
        "papermill": {
          "duration": 0.017661,
          "end_time": "2024-03-13T11:45:39.722363",
          "exception": false,
          "start_time": "2024-03-13T11:45:39.704702",
          "status": "completed"
        },
        "tags": [],
        "colab": {
          "base_uri": "https://localhost:8080/"
        },
        "id": "ca6ea482",
        "outputId": "d8d5924f-c1f7-459e-c3ec-2c558925adbc"
      },
      "outputs": [
        {
          "output_type": "execute_result",
          "data": {
            "text/plain": [
              "array([[177,   0,   0,   0,   0],\n",
              "       [  0, 175,   0,   0,   0],\n",
              "       [  0,   0, 172,   0,   0],\n",
              "       [  0,   0,   0, 136,   0],\n",
              "       [  0,   0,   0,   0,  46]])"
            ]
          },
          "metadata": {},
          "execution_count": 20
        }
      ],
      "source": [
        "cm"
      ]
    },
    {
      "cell_type": "markdown",
      "id": "3232750e",
      "metadata": {
        "papermill": {
          "duration": 0.007285,
          "end_time": "2024-03-13T11:45:39.737292",
          "exception": false,
          "start_time": "2024-03-13T11:45:39.730007",
          "status": "completed"
        },
        "tags": [],
        "id": "3232750e"
      },
      "source": [
        "## Decision Tree Classifier"
      ]
    },
    {
      "cell_type": "code",
      "execution_count": null,
      "id": "62423a5d",
      "metadata": {
        "execution": {
          "iopub.execute_input": "2024-03-13T11:45:39.754431Z",
          "iopub.status.busy": "2024-03-13T11:45:39.753503Z",
          "iopub.status.idle": "2024-03-13T11:45:39.771136Z",
          "shell.execute_reply": "2024-03-13T11:45:39.770275Z"
        },
        "papermill": {
          "duration": 0.028429,
          "end_time": "2024-03-13T11:45:39.773257",
          "exception": false,
          "start_time": "2024-03-13T11:45:39.744828",
          "status": "completed"
        },
        "tags": [],
        "colab": {
          "base_uri": "https://localhost:8080/",
          "height": 75
        },
        "id": "62423a5d",
        "outputId": "dcb7eeed-9ce7-4014-9d88-d5a81acc0b06"
      },
      "outputs": [
        {
          "output_type": "execute_result",
          "data": {
            "text/plain": [
              "DecisionTreeClassifier()"
            ],
            "text/html": [
              "<style>#sk-container-id-2 {color: black;background-color: white;}#sk-container-id-2 pre{padding: 0;}#sk-container-id-2 div.sk-toggleable {background-color: white;}#sk-container-id-2 label.sk-toggleable__label {cursor: pointer;display: block;width: 100%;margin-bottom: 0;padding: 0.3em;box-sizing: border-box;text-align: center;}#sk-container-id-2 label.sk-toggleable__label-arrow:before {content: \"▸\";float: left;margin-right: 0.25em;color: #696969;}#sk-container-id-2 label.sk-toggleable__label-arrow:hover:before {color: black;}#sk-container-id-2 div.sk-estimator:hover label.sk-toggleable__label-arrow:before {color: black;}#sk-container-id-2 div.sk-toggleable__content {max-height: 0;max-width: 0;overflow: hidden;text-align: left;background-color: #f0f8ff;}#sk-container-id-2 div.sk-toggleable__content pre {margin: 0.2em;color: black;border-radius: 0.25em;background-color: #f0f8ff;}#sk-container-id-2 input.sk-toggleable__control:checked~div.sk-toggleable__content {max-height: 200px;max-width: 100%;overflow: auto;}#sk-container-id-2 input.sk-toggleable__control:checked~label.sk-toggleable__label-arrow:before {content: \"▾\";}#sk-container-id-2 div.sk-estimator input.sk-toggleable__control:checked~label.sk-toggleable__label {background-color: #d4ebff;}#sk-container-id-2 div.sk-label input.sk-toggleable__control:checked~label.sk-toggleable__label {background-color: #d4ebff;}#sk-container-id-2 input.sk-hidden--visually {border: 0;clip: rect(1px 1px 1px 1px);clip: rect(1px, 1px, 1px, 1px);height: 1px;margin: -1px;overflow: hidden;padding: 0;position: absolute;width: 1px;}#sk-container-id-2 div.sk-estimator {font-family: monospace;background-color: #f0f8ff;border: 1px dotted black;border-radius: 0.25em;box-sizing: border-box;margin-bottom: 0.5em;}#sk-container-id-2 div.sk-estimator:hover {background-color: #d4ebff;}#sk-container-id-2 div.sk-parallel-item::after {content: \"\";width: 100%;border-bottom: 1px solid gray;flex-grow: 1;}#sk-container-id-2 div.sk-label:hover label.sk-toggleable__label {background-color: #d4ebff;}#sk-container-id-2 div.sk-serial::before {content: \"\";position: absolute;border-left: 1px solid gray;box-sizing: border-box;top: 0;bottom: 0;left: 50%;z-index: 0;}#sk-container-id-2 div.sk-serial {display: flex;flex-direction: column;align-items: center;background-color: white;padding-right: 0.2em;padding-left: 0.2em;position: relative;}#sk-container-id-2 div.sk-item {position: relative;z-index: 1;}#sk-container-id-2 div.sk-parallel {display: flex;align-items: stretch;justify-content: center;background-color: white;position: relative;}#sk-container-id-2 div.sk-item::before, #sk-container-id-2 div.sk-parallel-item::before {content: \"\";position: absolute;border-left: 1px solid gray;box-sizing: border-box;top: 0;bottom: 0;left: 50%;z-index: -1;}#sk-container-id-2 div.sk-parallel-item {display: flex;flex-direction: column;z-index: 1;position: relative;background-color: white;}#sk-container-id-2 div.sk-parallel-item:first-child::after {align-self: flex-end;width: 50%;}#sk-container-id-2 div.sk-parallel-item:last-child::after {align-self: flex-start;width: 50%;}#sk-container-id-2 div.sk-parallel-item:only-child::after {width: 0;}#sk-container-id-2 div.sk-dashed-wrapped {border: 1px dashed gray;margin: 0 0.4em 0.5em 0.4em;box-sizing: border-box;padding-bottom: 0.4em;background-color: white;}#sk-container-id-2 div.sk-label label {font-family: monospace;font-weight: bold;display: inline-block;line-height: 1.2em;}#sk-container-id-2 div.sk-label-container {text-align: center;}#sk-container-id-2 div.sk-container {/* jupyter's `normalize.less` sets `[hidden] { display: none; }` but bootstrap.min.css set `[hidden] { display: none !important; }` so we also need the `!important` here to be able to override the default hidden behavior on the sphinx rendered scikit-learn.org. See: https://github.com/scikit-learn/scikit-learn/issues/21755 */display: inline-block !important;position: relative;}#sk-container-id-2 div.sk-text-repr-fallback {display: none;}</style><div id=\"sk-container-id-2\" class=\"sk-top-container\"><div class=\"sk-text-repr-fallback\"><pre>DecisionTreeClassifier()</pre><b>In a Jupyter environment, please rerun this cell to show the HTML representation or trust the notebook. <br />On GitHub, the HTML representation is unable to render, please try loading this page with nbviewer.org.</b></div><div class=\"sk-container\" hidden><div class=\"sk-item\"><div class=\"sk-estimator sk-toggleable\"><input class=\"sk-toggleable__control sk-hidden--visually\" id=\"sk-estimator-id-2\" type=\"checkbox\" checked><label for=\"sk-estimator-id-2\" class=\"sk-toggleable__label sk-toggleable__label-arrow\">DecisionTreeClassifier</label><div class=\"sk-toggleable__content\"><pre>DecisionTreeClassifier()</pre></div></div></div></div></div>"
            ]
          },
          "metadata": {},
          "execution_count": 21
        }
      ],
      "source": [
        "model = DecisionTreeClassifier()\n",
        "model.fit(xtrain, ytrain)"
      ]
    },
    {
      "cell_type": "code",
      "execution_count": null,
      "id": "b508c27e",
      "metadata": {
        "execution": {
          "iopub.execute_input": "2024-03-13T11:45:39.790530Z",
          "iopub.status.busy": "2024-03-13T11:45:39.789852Z",
          "iopub.status.idle": "2024-03-13T11:45:39.798114Z",
          "shell.execute_reply": "2024-03-13T11:45:39.797243Z"
        },
        "papermill": {
          "duration": 0.019145,
          "end_time": "2024-03-13T11:45:39.800133",
          "exception": false,
          "start_time": "2024-03-13T11:45:39.780988",
          "status": "completed"
        },
        "tags": [],
        "colab": {
          "base_uri": "https://localhost:8080/"
        },
        "id": "b508c27e",
        "outputId": "34cf8dce-aece-4d3a-e0cd-1f4ccbbcce7c"
      },
      "outputs": [
        {
          "output_type": "execute_result",
          "data": {
            "text/plain": [
              "1.0"
            ]
          },
          "metadata": {},
          "execution_count": 22
        }
      ],
      "source": [
        "model.score(xtest, ytest)"
      ]
    },
    {
      "cell_type": "code",
      "execution_count": null,
      "id": "5b75b686",
      "metadata": {
        "execution": {
          "iopub.execute_input": "2024-03-13T11:45:39.817815Z",
          "iopub.status.busy": "2024-03-13T11:45:39.817104Z",
          "iopub.status.idle": "2024-03-13T11:45:40.142406Z",
          "shell.execute_reply": "2024-03-13T11:45:40.141336Z"
        },
        "papermill": {
          "duration": 0.336896,
          "end_time": "2024-03-13T11:45:40.144795",
          "exception": false,
          "start_time": "2024-03-13T11:45:39.807899",
          "status": "completed"
        },
        "tags": [],
        "colab": {
          "base_uri": "https://localhost:8080/",
          "height": 564
        },
        "id": "5b75b686",
        "outputId": "36753e9e-0661-4208-9e10-614fa65f3e9b"
      },
      "outputs": [
        {
          "output_type": "display_data",
          "data": {
            "text/plain": [
              "<Figure size 800x600 with 2 Axes>"
            ],
            "image/png": "[encoded data removed]"
          },
          "metadata": {}
        }
      ],
      "source": [
        "preds = model.predict(xtest)\n",
        "cm = confusion_matrix(ytest, preds)\n",
        "cmdf = pd.DataFrame(cm, index=[\"Anemia\",\"Healthy\",\"Diabetes\",\"Thalasse\",\"Thromboc\"], columns=[\"Anemia\",\"Healthy\",\"Diabetes\",\"Thalasse\",\"Thromboc\"])\n",
        "plt.figure(figsize=(8,6))\n",
        "sns.heatmap(cmdf)\n",
        "plt.title(\"Confusion Matrix\")\n",
        "plt.xlabel(\"Predicted\")\n",
        "plt.ylabel(\"Actual\")\n",
        "plt.show()"
      ]
    },
    {
      "cell_type": "markdown",
      "id": "af3f2741",
      "metadata": {
        "papermill": {
          "duration": 0.008055,
          "end_time": "2024-03-13T11:45:40.161235",
          "exception": false,
          "start_time": "2024-03-13T11:45:40.153180",
          "status": "completed"
        },
        "tags": [],
        "id": "af3f2741"
      },
      "source": [
        "Similarly we can apply other Classifiers for the model. Since, we are achieving 100% accuracy (accuracy score of 1.0), I will not be going further with other classifiers or hyperparameter tuning.\n",
        "\n",
        "We will see hyperparameter tuning in some other dataset where we would be required to optimize our algorithm for accuracy"
      ]
    },
    {
      "cell_type": "code",
      "execution_count": null,
      "id": "4b73a38a",
      "metadata": {
        "papermill": {
          "duration": 0.008115,
          "end_time": "2024-03-13T11:45:40.177600",
          "exception": false,
          "start_time": "2024-03-13T11:45:40.169485",
          "status": "completed"
        },
        "tags": [],
        "id": "4b73a38a"
      },
      "outputs": [],
      "source": []
    }
  ],
  "metadata": {
    "kaggle": {
      "accelerator": "none",
      "dataSources": [
        {
          "datasetId": 4532617,
          "sourceId": 7752217,
          "sourceType": "datasetVersion"
        }
      ],
      "dockerImageVersionId": 30664,
      "isGpuEnabled": false,
      "isInternetEnabled": true,
      "language": "python",
      "sourceType": "notebook"
    },
    "kernelspec": {
      "display_name": "Python 3",
      "language": "python",
      "name": "python3"
    },
    "language_info": {
      "codemirror_mode": {
        "name": "ipython",
        "version": 3
      },
      "file_extension": ".py",
      "mimetype": "text/x-python",
      "name": "python",
      "nbconvert_exporter": "python",
      "pygments_lexer": "ipython3",
      "version": "3.10.13"
    },
    "papermill": {
      "default_parameters": {},
      "duration": 10.100024,
      "end_time": "2024-03-13T11:45:43.083499",
      "environment_variables": {},
      "exception": null,
      "input_path": "__notebook__.ipynb",
      "output_path": "__notebook__.ipynb",
      "parameters": {},
      "start_time": "2024-03-13T11:45:32.983475",
      "version": "2.5.0"
    },
    "colab": {
      "provenance": []
    }
  },
  "nbformat": 4,
  "nbformat_minor": 5
}